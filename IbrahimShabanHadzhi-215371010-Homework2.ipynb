{
 "cells": [
  {
   "cell_type": "code",
   "execution_count": 11,
   "metadata": {
    "collapsed": true
   },
   "outputs": [],
   "source": [
    "# Ibrahim Shaban Hadzhi - 215371010 - Homework 2\n",
    "import nsfg\n",
    "import thinkplot\n",
    "import thinkstats2\n",
    "\n",
    "pres = nsfg.ReadFemResp()"
   ]
  },
  {
   "cell_type": "code",
   "execution_count": 24,
   "metadata": {
    "collapsed": false
   },
   "outputs": [
    {
     "data": {
      "text/plain": [
       "9.0       1\n",
       "11.0      2\n",
       "12.0      1\n",
       "13.0      3\n",
       "14.0     18\n",
       "15.0     50\n",
       "16.0    115\n",
       "17.0    173\n",
       "18.0    342\n",
       "19.0    328\n",
       "20.0    353\n",
       "21.0    364\n",
       "22.0    381\n",
       "23.0    359\n",
       "24.0    285\n",
       "25.0    261\n",
       "26.0    233\n",
       "27.0    177\n",
       "28.0    150\n",
       "29.0    129\n",
       "30.0     97\n",
       "31.0     72\n",
       "32.0     52\n",
       "33.0     49\n",
       "34.0     29\n",
       "35.0     35\n",
       "36.0     14\n",
       "37.0     14\n",
       "38.0     10\n",
       "39.0     10\n",
       "40.0      7\n",
       "41.0      6\n",
       "42.0      3\n",
       "43.0      3\n",
       "Name: fmar1age, dtype: int64"
      ]
     },
     "execution_count": 24,
     "metadata": {},
     "output_type": "execute_result"
    }
   ],
   "source": [
    "# Question1 : Select the fmar1age column that the age of respondents' at first mariage from pres,\n",
    "# find frequencies for each age and print the values with sorted by age\n",
    "fmar1age = pres['fmar1age']\n",
    "hist = thinkstats2.Hist(pres.fmar1age)\n",
    "hist1 = thinkstats2.Hist(hist)\n",
    "pres.fmar1age.value_counts().sort_index()"
   ]
  },
  {
   "cell_type": "code",
   "execution_count": 12,
   "metadata": {
    "collapsed": false
   },
   "outputs": [
    {
     "data": {
      "image/png": "[encoded data removed]",
      "text/plain": [
       "<matplotlib.figure.Figure at 0x14ee6da0>"
      ]
     },
     "metadata": {},
     "output_type": "display_data"
    }
   ],
   "source": [
    " #then Make a histogram of fmar1age the age of respondents' at first mariage.\n",
    "\n",
    "thinkplot.Hist(hist1,label=\"Frequency of Ages\") \n",
    "thinkplot.Show(xlabel='Age at 1st mariage', ylabel='Frequency')"
   ]
  },
  {
   "cell_type": "code",
   "execution_count": 26,
   "metadata": {
    "collapsed": false
   },
   "outputs": [
    {
     "data": {
      "text/plain": [
       "0    3517\n",
       "1    3436\n",
       "2     582\n",
       "3      90\n",
       "4      15\n",
       "5       3\n",
       "Name: fmarno, dtype: int64"
      ]
     },
     "execution_count": 26,
     "metadata": {},
     "output_type": "execute_result"
    }
   ],
   "source": [
    "# Question2: Find the respondents' number of mariage by fmarno and find frequencies for each number of mariage \n",
    "#and print the values with sorted by number of mariage (tip: with value_counts() function may help) \n",
    "#then Make a histogram of fmarno the number of mariage that done by respondents.\n",
    "\n",
    "fmarno = pres['fmarno']\n",
    "hist2 = thinkstats2.Hist(fmarno)\n",
    "pres.fmarno.value_counts().sort_index()"
   ]
  },
  {
   "cell_type": "code",
   "execution_count": 25,
   "metadata": {
    "collapsed": false
   },
   "outputs": [
    {
     "data": {
      "image/png": "[encoded data removed]",
      "text/plain": [
       "<matplotlib.figure.Figure at 0xac3e1d0>"
      ]
     },
     "metadata": {},
     "output_type": "display_data"
    }
   ],
   "source": [
    "thinkplot.Hist(hist2,label=\"Number of Marriages\")\n",
    "thinkplot.Show(xlabel='Number of Marriages', ylabel='Frequency')"
   ]
  },
  {
   "cell_type": "code",
   "execution_count": 15,
   "metadata": {
    "collapsed": false
   },
   "outputs": [
    {
     "data": {
      "text/plain": [
       "1      299\n",
       "2      301\n",
       "3      266\n",
       "4      421\n",
       "5      445\n",
       "6      559\n",
       "7      583\n",
       "8      606\n",
       "9      607\n",
       "10     468\n",
       "11     647\n",
       "12     658\n",
       "13     623\n",
       "14    1160\n",
       "Name: totincr, dtype: int64"
      ]
     },
     "execution_count": 15,
     "metadata": {},
     "output_type": "execute_result"
    }
   ],
   "source": [
    "#Question3: \n",
    "\n",
    "totincr = pres['totincr']\n",
    "hist3 = thinkstats2.Hist(totincr)\n",
    "pres.totincr.value_counts().sort_index()"
   ]
  },
  {
   "cell_type": "code",
   "execution_count": 21,
   "metadata": {
    "collapsed": false
   },
   "outputs": [
    {
     "data": {
      "image/png": "[encoded data removed]",
      "text/plain": [
       "<matplotlib.figure.Figure at 0x14372358>"
      ]
     },
     "metadata": {},
     "output_type": "display_data"
    }
   ],
   "source": [
    "thinkplot.Hist(hist3,label=\"Total Income\") \n",
    "thinkplot.Config(xlabel='Range', ylabel='Frequency')\n",
    "thinkplot.Show()\n"
   ]
  },
  {
   "cell_type": "code",
   "execution_count": 18,
   "metadata": {
    "collapsed": false
   },
   "outputs": [
    {
     "data": {
      "image/png": "[encoded data removed]",
      "text/plain": [
       "<matplotlib.figure.Figure at 0x155d7c50>"
      ]
     },
     "metadata": {},
     "output_type": "display_data"
    }
   ],
   "source": [
    "#Question4:\n",
    "\n",
    "neverMarried = pres[pres.fmarno == 0]\n",
    "married = pres[pres.fmarno >= 1]\n",
    "hist4 = thinkstats2.Hist(neverMarried.totincr, label=\"Never Married\")\n",
    "hist5 = thinkstats2.Hist(married.totincr, label=\"Married\")\n",
    "thinkplot.Hist(hist4, align='right',width=0.5,color='red')\n",
    "thinkplot.Hist(hist5, align='left',width=0.5,color='blue')\n",
    "thinkplot.Show(xlabel='Time', ylabel='Amount',)"
   ]
  },
  {
   "cell_type": "code",
   "execution_count": 22,
   "metadata": {
    "collapsed": false
   },
   "outputs": [
    {
     "name": "stdout",
     "output_type": "stream",
     "text": [
      "Miminum value of total income of never married respondents is 1.00\n",
      "Miminum value of total income of married respondents is 1.00\n",
      "Maximum value of total income of never married respondents is 14.00\n",
      "Maximum value of total income of married respondents is 14.00\n"
     ]
    }
   ],
   "source": [
    "#Question5:\n",
    "\n",
    "print 'Miminum value of total income of never married respondents is %.2f' %neverMarried.totincr.min()\n",
    "print 'Miminum value of total income of married respondents is %.2f' %married.totincr.min()\n",
    "print 'Maximum value of total income of never married respondents is %.2f' %neverMarried.totincr.max()\n",
    "print 'Maximum value of total income of married respondents is %.2f' %married.totincr.max()"
   ]
  },
  {
   "cell_type": "code",
   "execution_count": null,
   "metadata": {
    "collapsed": true
   },
   "outputs": [],
   "source": []
  }
 ],
 "metadata": {
  "kernelspec": {
   "display_name": "Python 2",
   "language": "python",
   "name": "python2"
  },
  "language_info": {
   "codemirror_mode": {
    "name": "ipython",
    "version": 2
   },
   "file_extension": ".py",
   "mimetype": "text/x-python",
   "name": "python",
   "nbconvert_exporter": "python",
   "pygments_lexer": "ipython2",
   "version": "2.7.13"
  }
 },
 "nbformat": 4,
 "nbformat_minor": 2
}
